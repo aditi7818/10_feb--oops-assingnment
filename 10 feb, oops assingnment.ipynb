{
 "cells": [
  {
   "cell_type": "code",
   "execution_count": null,
   "id": "b54abd4e-a449-4ab6-892c-1e948e7445cd",
   "metadata": {},
   "outputs": [],
   "source": [
    "Question: Which function is used to open a file? What are the differnt modes of opening a file? expalin each mode of file opening.\n",
    "Answer: opening a files refers to getting the file ready either for reading or for writting.\n",
    "This can be done using the open(). function.\n",
    "This function returns a file object and takes two arguments, one that accepts the file name and another that accepts the mode(acess mode)\n",
    "There are 6 acees modes in python>\n",
    "\n",
    "MODE                                                                 DESCRIPTION\n",
    "\n",
    "'r'                                                      open text file for reading. Raise an I/O error if the file does not exist.\n",
    "'r+'                                                     open the file for reading and writting. Raise an I/O error if the file does not exist.\n",
    "'w'                                                      open the file for weitting. truncates the file if it already exists. creates a new file if it does not exist.\n",
    "'w+'                                                     open the file for reading and writting. truncates the file if it already exists. creates a new file if it does not exist.\n",
    "'a'                                                      open the file for writting. the data being written will be inserted at the end of the files. creates a new file. creates a new\n",
    "                                                          file if it does not exist.\n",
    "'a+'                                                     open the file for reading and writting. the data bieng written will be inserted at the end of the file. creates a new file if\n",
    "                                                         it does not exist.\n",
    "    \n",
    "'rb'                                                     open the file for reading in binary format. raise an I/O error if the file does not exist.\n",
    "\n",
    "'rb+'                                                    open the file for reading and writting in binary format. raise an I/O error if the file does not exist.\n",
    "\n",
    "'wb'                                                     open the file for writting in binary format. truncates the file if it already exists. creates a new file if it does not exist.\n",
    "\n",
    "'wb+'                                                    open the file for reading and writting in the binary format. trunctes the file if it already exists. create a new file if it \n",
    "                                                         does not exist.\n",
    "\n",
    "'ab'                                                     open the file for appending in binary format. inserts data at the end of the file. ceates a new file if it does not exist.\n",
    "\n",
    "'ab+'                                                    open the file for reading and appending in binary format. inserts data at the end of the file. creates a new file if it does\n",
    "                                                         not exist."
   ]
  },
  {
   "cell_type": "code",
   "execution_count": null,
   "id": "c2e9a322-9740-4a20-a097-e3f2e6c3bd2f",
   "metadata": {},
   "outputs": [],
   "source": [
    "Question: why close() function is used? why is it important to close a file?\n",
    "Answer: The close(). method closes an open file.\n",
    "you should always close your files, in somecases, due to buffering, changes made to a file may not show until you close the file.\n",
    "it is importanat to close a file. because files are limited resources managment by the opreating system, making sure files are closed after use will protect against\n",
    "hard-to-debug issue like running out of the file handles or experiencing corrupted data. "
   ]
  },
  {
   "cell_type": "code",
   "execution_count": null,
   "id": "2377d1d2-b1df-45e0-be0d-c1bb329f9511",
   "metadata": {},
   "outputs": [],
   "source": [
    "Question: Write a python program to create a text file. write ' i want to become a data scientist' in that file. then close the file. open this file and \n",
    "read the content of the file. \n",
    "Answer:\n",
    "f = open(\"myfiles.txt\", \"w\")\n",
    "f.write(\"i want to become a data scientist\")\n",
    "f.close()\n",
    "\n",
    "# for read the content of the file:\n",
    "f = open(\"myfiles.txt\", \"r\")\n",
    "print(f.read())"
   ]
  },
  {
   "cell_type": "code",
   "execution_count": null,
   "id": "701c8523-5be2-4c8f-a005-7598edb8695a",
   "metadata": {},
   "outputs": [],
   "source": [
    "Question: Explain the following code: read(), readline() and readlines().\n",
    "Answer: \n",
    "1).Read(): Returns the read bytes in the form of of a string. reads n bytes; if n is not specified, then reads the entire file.\n",
    "\n",
    "2).Readline(): Reads a line of the file and returns in the form of a string. for speciefied n, reads at most n bytes. readlines() function does not read more than one \n",
    "line at a time; even if n exceeds, it reads only one line. Readline() function reads a line of the file and returns it in the string. it takes an integer value n as a parameter\n",
    "to read the number of characters read at a time. Readline() method is very efficient in reading the data from a very  large file because it fetches the data lines by line and \n",
    "returns and prints on the screen. Readline() return the next line of the file, which contains a newline vcharacter in the end. also, if the end of the file is reached,\n",
    "it will return an empty string.\n",
    "\n",
    "3).Readlines(): Read all the lines and returns them as a string element in a list. Readlines() is used to read all the lines at a single go and the return them as a string element\n",
    "in a list. this function can be used for small files, as it reads the whole file content to the memory, then splits it into separate lines. using the strip() function, we can \n",
    "iterate over the list and strip the newlines'\\n' character using the strip() function."
   ]
  },
  {
   "cell_type": "code",
   "execution_count": 21,
   "id": "7a5f7057-c75d-4605-b0ee-95cfe203c66c",
   "metadata": {},
   "outputs": [],
   "source": [
    "Question: Explain why with statement is used with open(). what is the advantage of using with statement and open() together?\n",
    "Answer: The with statement works with the open() function to open a file. unlike open() where you have to close the files with the close() meyhod, the with statement \n",
    "close the file for you without you telling it to.\n",
    "hence, combining the with statement and the open() function in python help us read and write to the file without bieng worried about closing it. "
   ]
  },
  {
   "cell_type": "code",
   "execution_count": null,
   "id": "51effaa4-0026-4c1a-ad7f-d10464b05319",
   "metadata": {},
   "outputs": [],
   "source": [
    "Question: Explain the write() and writelines() functions. give a suitable example.\n",
    "Answer: \n",
    "1). Write() function:the write() function is a built- in function that allows you to write data to a file. this function takes a string as input and writes data to a file.\n",
    "this function takes a string as input and writes it to the specified file. the Write() function is very versatile and can be used to write a wide variety of data types\n",
    "to a file, including text, numbers, and binary data.\n",
    "example:\n",
    "file = open(\"example.txt\", \"w\")\n",
    "num_bytes_written = file.write(\"hello, prepbytes!\")\n",
    "print(\"number of bytes written:\", num_bytes_written)\n",
    "file.close()\n",
    "\n",
    "2). Writelines(): the writelines() method writes the items of a list to the file.\n",
    "where the texts will be inserted depends on the file mode and stream position.\n",
    "\"a\": The texts will be inserted at the curent file stream position, default at the end of the file.\n",
    "\"w\": the file will be emptied before the texts will be inserted at the current file stream position, default 0.\n",
    "Example: \n",
    "f = open(\"demofile.txt, \"a\")\n",
    "f.writelines([\"\\n see you soon!\", \"\\nover and out.\"])\n",
    "f.close()\n"
   ]
  },
  {
   "cell_type": "code",
   "execution_count": 22,
   "id": "675ffa9a-3974-4a40-b4f1-cf37cd94820e",
   "metadata": {},
   "outputs": [
    {
     "name": "stdout",
     "output_type": "stream",
     "text": [
      "<_io.TextIOWrapper name='my text.file' mode='w' encoding='UTF-8'>\n"
     ]
    }
   ],
   "source": [
    "print(f)"
   ]
  },
  {
   "cell_type": "code",
   "execution_count": 8,
   "id": "4a716da2-4277-4e2c-bf72-6b6f3f84c9b5",
   "metadata": {},
   "outputs": [
    {
     "name": "stdout",
     "output_type": "stream",
     "text": [
      "<_io.TextIOWrapper name='myfile.txt' mode='w' encoding='UTF-8'>\n"
     ]
    }
   ],
   "source": [
    "print(f)"
   ]
  },
  {
   "cell_type": "code",
   "execution_count": null,
   "id": "e1a6154d-f092-40d6-a753-8ae70ce047db",
   "metadata": {},
   "outputs": [],
   "source": []
  }
 ],
 "metadata": {
  "kernelspec": {
   "display_name": "Python 3 (ipykernel)",
   "language": "python",
   "name": "python3"
  },
  "language_info": {
   "codemirror_mode": {
    "name": "ipython",
    "version": 3
   },
   "file_extension": ".py",
   "mimetype": "text/x-python",
   "name": "python",
   "nbconvert_exporter": "python",
   "pygments_lexer": "ipython3",
   "version": "3.10.8"
  }
 },
 "nbformat": 4,
 "nbformat_minor": 5
}
